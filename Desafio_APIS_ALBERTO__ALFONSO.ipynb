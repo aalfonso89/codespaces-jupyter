{
  "nbformat": 4,
  "nbformat_minor": 0,
  "metadata": {
    "colab": {
      "provenance": [],
      "authorship_tag": "ABX9TyN4knAil9qac+wrqhJOZzld",
      "include_colab_link": true
    },
    "kernelspec": {
      "name": "python3",
      "display_name": "Python 3"
    },
    "language_info": {
      "name": "python"
    }
  },
  "cells": [
    {
      "cell_type": "markdown",
      "metadata": {
        "id": "view-in-github",
        "colab_type": "text"
      },
      "source": [
        "<a href=\"https://colab.research.google.com/github/aalfonso89/codespaces-jupyter/blob/main/Desafio_APIS_ALBERTO__ALFONSO.ipynb\" target=\"_parent\"><img src=\"https://colab.research.google.com/assets/colab-badge.svg\" alt=\"Open In Colab\"/></a>"
      ]
    },
    {
      "cell_type": "markdown",
      "source": [
        "# Contexto"
      ],
      "metadata": {
        "id": "6IO5QHRhOT3T"
      }
    },
    {
      "cell_type": "markdown",
      "source": [
        "Mi proyecto esta relacionado a la industria del seguro. El organismo que puede proveer información pública es la Superintendencia de Seguros de la Nación, que es el organismo regulador.\n",
        "Hace un tiempo la SSN sufrió un ataque de hackers por lo que bajó todos los servicios que tienen, incluso aquellos mediante los cuales las compañias de seguro le envían informacion.\n",
        "Es por eso que para esta actividad opté por conectarme a algo que no tenga que ver con mi proyecto, para poderlo realizar y tener info."
      ],
      "metadata": {
        "id": "8mO1_Vr2OX-S"
      }
    },
    {
      "cell_type": "markdown",
      "source": [
        "#API para conexión con Spotify"
      ],
      "metadata": {
        "id": "IegjdhdgHX0x"
      }
    },
    {
      "cell_type": "markdown",
      "source": [
        "Creé en Spotify una API ingresando a la parte de Developers y logueandome con mi cuenta de Spotify.\n",
        "Allí obtuve mi Id y el endopoint para avanzar en los pasos que siguen"
      ],
      "metadata": {
        "id": "91DnHe7HHicj"
      }
    },
    {
      "cell_type": "markdown",
      "source": [
        "Instalé la librería que permite conexion con Spotify"
      ],
      "metadata": {
        "id": "7YPFNU7iH0Ec"
      }
    },
    {
      "cell_type": "code",
      "execution_count": 1,
      "metadata": {
        "colab": {
          "base_uri": "https://localhost:8080/"
        },
        "id": "biEgPs_x5gcx",
        "outputId": "e2fba621-9069-4bb2-f9d5-7b6d21f2948f"
      },
      "outputs": [
        {
          "output_type": "stream",
          "name": "stdout",
          "text": [
            "Collecting spotipy\n",
            "  Downloading spotipy-2.23.0-py3-none-any.whl (29 kB)\n",
            "Collecting redis>=3.5.3 (from spotipy)\n",
            "  Downloading redis-4.6.0-py3-none-any.whl (241 kB)\n",
            "\u001b[2K     \u001b[90m━━━━━━━━━━━━━━━━━━━━━━━━━━━━━━━━━━━━━━━\u001b[0m \u001b[32m241.1/241.1 kB\u001b[0m \u001b[31m8.1 MB/s\u001b[0m eta \u001b[36m0:00:00\u001b[0m\n",
            "\u001b[?25hRequirement already satisfied: requests>=2.25.0 in /usr/local/lib/python3.10/dist-packages (from spotipy) (2.27.1)\n",
            "Requirement already satisfied: six>=1.15.0 in /usr/local/lib/python3.10/dist-packages (from spotipy) (1.16.0)\n",
            "Requirement already satisfied: urllib3>=1.26.0 in /usr/local/lib/python3.10/dist-packages (from spotipy) (1.26.16)\n",
            "Requirement already satisfied: async-timeout>=4.0.2 in /usr/local/lib/python3.10/dist-packages (from redis>=3.5.3->spotipy) (4.0.2)\n",
            "Requirement already satisfied: certifi>=2017.4.17 in /usr/local/lib/python3.10/dist-packages (from requests>=2.25.0->spotipy) (2023.5.7)\n",
            "Requirement already satisfied: charset-normalizer~=2.0.0 in /usr/local/lib/python3.10/dist-packages (from requests>=2.25.0->spotipy) (2.0.12)\n",
            "Requirement already satisfied: idna<4,>=2.5 in /usr/local/lib/python3.10/dist-packages (from requests>=2.25.0->spotipy) (3.4)\n",
            "Installing collected packages: redis, spotipy\n",
            "Successfully installed redis-4.6.0 spotipy-2.23.0\n"
          ]
        }
      ],
      "source": [
        "pip install spotipy"
      ]
    },
    {
      "cell_type": "code",
      "source": [
        "import spotipy\n",
        "from spotipy.oauth2 import SpotifyOAuth"
      ],
      "metadata": {
        "id": "higk7fSI5xck"
      },
      "execution_count": 2,
      "outputs": []
    },
    {
      "cell_type": "markdown",
      "source": [
        "Instancio al objeto de Autenticacion de Spotify con mis credenciales"
      ],
      "metadata": {
        "id": "qONt36v3H4j_"
      }
    },
    {
      "cell_type": "code",
      "source": [
        "sp_oauth = SpotifyOAuth(client_id='3413fc9831a549e4b672a3b7791f1b42',\n",
        "                        client_secret='52d0c105851c468fb6820c6a4254ebd7',\n",
        "                        redirect_uri='http://localhost:3000',\n",
        "                        scope='user-library-read')"
      ],
      "metadata": {
        "id": "wT7C-2uv51ED"
      },
      "execution_count": 3,
      "outputs": []
    },
    {
      "cell_type": "markdown",
      "source": [
        "Obtengo la URL de autorizacion y de ella tomo el Code para ingresar"
      ],
      "metadata": {
        "id": "S-vOh-pFH_4T"
      }
    },
    {
      "cell_type": "code",
      "source": [
        "auth_url = sp_oauth.get_authorize_url()"
      ],
      "metadata": {
        "id": "bgDX7yJM6EOm"
      },
      "execution_count": 4,
      "outputs": []
    },
    {
      "cell_type": "code",
      "source": [
        "auth_url"
      ],
      "metadata": {
        "colab": {
          "base_uri": "https://localhost:8080/",
          "height": 36
        },
        "id": "H3uOBSwU6L-n",
        "outputId": "d5c1dd0b-d7c2-4c8f-bb59-4c6b31e825f1"
      },
      "execution_count": 6,
      "outputs": [
        {
          "output_type": "execute_result",
          "data": {
            "text/plain": [
              "'https://accounts.spotify.com/authorize?client_id=3413fc9831a549e4b672a3b7791f1b42&response_type=code&redirect_uri=http%3A%2F%2Flocalhost%3A3000&scope=user-library-read'"
            ],
            "application/vnd.google.colaboratory.intrinsic+json": {
              "type": "string"
            }
          },
          "metadata": {},
          "execution_count": 6
        }
      ]
    },
    {
      "cell_type": "code",
      "source": [
        "code = 'AQC6op6tH7WoeqaPpvr2ufq9zeRspQxtThGzWXOJKZOFPNYHoU2DJhoDeZ7i500wjNkxh-8zEF2PITcCeXbO2VLrNz5WWNry1Wv8NrVSBel7P-zCoCxHcGGovzz27WxKensogmjfYqMA2vt26fGPvKeNfUOua1ovlxHRAmezui7GRmChYskQV-fHwNE'"
      ],
      "metadata": {
        "id": "iBvbcvw96aor"
      },
      "execution_count": 7,
      "outputs": []
    },
    {
      "cell_type": "markdown",
      "source": [
        "Con el Code, invoco al procedimiento que me brinda el access token para Spotify"
      ],
      "metadata": {
        "id": "1HXSTYLIH94S"
      }
    },
    {
      "cell_type": "code",
      "source": [
        "token_info = sp_oauth.get_access_token(code)\n",
        "access_token = token_info['access_token']"
      ],
      "metadata": {
        "colab": {
          "base_uri": "https://localhost:8080/"
        },
        "id": "lsOl-36Q6g02",
        "outputId": "0014719f-539c-4fbe-dc5d-54cbeb1b1f11"
      },
      "execution_count": 8,
      "outputs": [
        {
          "output_type": "stream",
          "name": "stderr",
          "text": [
            "<ipython-input-8-1c306a59c3ea>:1: DeprecationWarning: You're using 'as_dict = True'.get_access_token will return the token string directly in future versions. Please adjust your code accordingly, or use get_cached_token instead.\n",
            "  token_info = sp_oauth.get_access_token(code)\n"
          ]
        }
      ]
    },
    {
      "cell_type": "markdown",
      "source": [
        "Instancio el objeto sp, que es el que esta ligado al acceso de spotify creado y mediante el cual puedo invocar distintos procedimientos de la libreria spotipy"
      ],
      "metadata": {
        "id": "cna-Z-agIfMD"
      }
    },
    {
      "cell_type": "code",
      "source": [
        "sp = spotipy.Spotify(auth=access_token)"
      ],
      "metadata": {
        "id": "ylOQOkPJ6nfQ"
      },
      "execution_count": 9,
      "outputs": []
    },
    {
      "cell_type": "markdown",
      "source": [
        "Invoco la función current_user_saved_tracks para obtener las canciones guardadas por mi usuario de Spotify. Entonces el objeto sp es el que esta conectado a Spotify y mediante cualquiera de las funciones de la librería puedo obtener info de mi cuenta"
      ],
      "metadata": {
        "id": "T49znqImIkMQ"
      }
    },
    {
      "cell_type": "code",
      "source": [
        "results = sp.current_user_saved_tracks()\n",
        "for item in results['items']:\n",
        "    track = item['track']\n",
        "    print(track['name'], '-', track['artists'][0]['name'])"
      ],
      "metadata": {
        "colab": {
          "base_uri": "https://localhost:8080/"
        },
        "id": "nWsu_nTQ6qq1",
        "outputId": "15ae7f3e-fade-49c0-96f2-c09de96cc9f4"
      },
      "execution_count": 22,
      "outputs": [
        {
          "output_type": "stream",
          "name": "stdout",
          "text": [
            "Nuestra Fe - Remasterizado 2007 - Soda Stereo\n",
            "Paradise - Live - Coldplay\n",
            "A Pocketful of Stones (with The Baltic Philharmonic Symphony Orchestra) - Live in Gdańsk - David Gilmour\n",
            "This Heaven (with The Baltic Philharmonic Symphony Orchestra) - Live in Gdańsk - David Gilmour\n",
            "Breathe - Live in Gdańsk - David Gilmour\n",
            "Comfortably Numb (with The Baltic Philharmonic Symphony Orchestra) - Live in Gdańsk - David Gilmour\n",
            "Castellorizon (with The Baltic Philharmonic Symphony Orchestra) - Live in Gdańsk - David Gilmour\n",
            "Take a Breath (with The Baltic Philharmonic Symphony Orchestra) - Live in Gdańsk - David Gilmour\n",
            "A Great Day for Freedom (with The Baltic Philharmonic Symphony Orchestra) - Live in Gdańsk - David Gilmour\n",
            "Wish You Were Here - Live in Gdańsk - David Gilmour\n",
            "Red Sky at Night (with The Baltic Philharmonic Symphony Orchestra) - Live in Gdańsk - David Gilmour\n",
            "The Blue (with The Baltic Philharmonic Symphony Orchestra) - Live in Gdańsk - David Gilmour\n",
            "Smile (with The Baltic Philharmonic Symphony Orchestra) - Live in Gdańsk - David Gilmour\n",
            "Fat Old Sun - Live in Gdańsk - David Gilmour\n",
            "Speak to Me - Live in Gdańsk - David Gilmour\n",
            "Then I Close My Eyes (with The Baltic Philharmonic Symphony Orchestra) - Live in Gdańsk - David Gilmour\n",
            "Echoes - Live in Gdańsk - David Gilmour\n",
            "Breathe - Reprise; Live in Gdańsk - David Gilmour\n",
            "High (with The Baltic Philharmonic Symphony Orchestra) - Live in Gdańsk - David Gilmour\n",
            "Where We Start (with The Baltic Philharmonic Symphony Orchestra) - Live in Gdańsk - David Gilmour\n"
          ]
        }
      ]
    },
    {
      "cell_type": "markdown",
      "source": [
        "El objeto results es el que almacena el Json con la informacion. Vamos a importarla a un DataFrame de Pandas"
      ],
      "metadata": {
        "id": "vfhP24yRKmBn"
      }
    },
    {
      "cell_type": "code",
      "source": [
        "import pandas as pd\n",
        "data = []\n",
        "for item in results['items']:\n",
        "    track = item['track']\n",
        "    track_data = {\n",
        "        'Nombre': track['name'],\n",
        "        'Artista': track['artists'][0]['name'],\n",
        "        'Album': track['album']['name'],\n",
        "        'Duracion (ms)': track['duration_ms'],\n",
        "        'Popularidad': track['popularity']\n",
        "    }\n",
        "    data.append(track_data)"
      ],
      "metadata": {
        "id": "bP75T-zfLxVi"
      },
      "execution_count": 29,
      "outputs": []
    },
    {
      "cell_type": "code",
      "source": [
        "df = pd.DataFrame(data)"
      ],
      "metadata": {
        "id": "ZVCi0Sa_L1fx"
      },
      "execution_count": 30,
      "outputs": []
    },
    {
      "cell_type": "code",
      "source": [
        "df"
      ],
      "metadata": {
        "colab": {
          "base_uri": "https://localhost:8080/",
          "height": 676
        },
        "id": "otcYri1BM4KK",
        "outputId": "ab9c32d3-98dc-41e1-b86f-dc05070724cc"
      },
      "execution_count": 31,
      "outputs": [
        {
          "output_type": "execute_result",
          "data": {
            "text/plain": [
              "                                               Nombre        Artista  \\\n",
              "0                     Nuestra Fe - Remasterizado 2007    Soda Stereo   \n",
              "1                                     Paradise - Live       Coldplay   \n",
              "2   A Pocketful of Stones (with The Baltic Philhar...  David Gilmour   \n",
              "3   This Heaven (with The Baltic Philharmonic Symp...  David Gilmour   \n",
              "4                            Breathe - Live in Gdańsk  David Gilmour   \n",
              "5   Comfortably Numb (with The Baltic Philharmonic...  David Gilmour   \n",
              "6   Castellorizon (with The Baltic Philharmonic Sy...  David Gilmour   \n",
              "7   Take a Breath (with The Baltic Philharmonic Sy...  David Gilmour   \n",
              "8   A Great Day for Freedom (with The Baltic Philh...  David Gilmour   \n",
              "9                 Wish You Were Here - Live in Gdańsk  David Gilmour   \n",
              "10  Red Sky at Night (with The Baltic Philharmonic...  David Gilmour   \n",
              "11  The Blue (with The Baltic Philharmonic Symphon...  David Gilmour   \n",
              "12  Smile (with The Baltic Philharmonic Symphony O...  David Gilmour   \n",
              "13                       Fat Old Sun - Live in Gdańsk  David Gilmour   \n",
              "14                       Speak to Me - Live in Gdańsk  David Gilmour   \n",
              "15  Then I Close My Eyes (with The Baltic Philharm...  David Gilmour   \n",
              "16                            Echoes - Live in Gdańsk  David Gilmour   \n",
              "17                  Breathe - Reprise; Live in Gdańsk  David Gilmour   \n",
              "18  High (with The Baltic Philharmonic Symphony Or...  David Gilmour   \n",
              "19  Where We Start (with The Baltic Philharmonic S...  David Gilmour   \n",
              "\n",
              "                  Album  Duracion (ms)  Popularidad  \n",
              "0   Dynamo (Remastered)         396546           47  \n",
              "1             Live 2012         332080           56  \n",
              "2        Live in Gdansk         340453           21  \n",
              "3        Live in Gdansk         272640           23  \n",
              "4        Live in Gdansk         168960           27  \n",
              "5        Live in Gdansk         560253           33  \n",
              "6        Live in Gdansk         227093           25  \n",
              "7        Live in Gdansk         407346           22  \n",
              "8        Live in Gdansk         356946           31  \n",
              "9        Live in Gdansk         314386           39  \n",
              "10       Live in Gdansk         182666           25  \n",
              "11       Live in Gdansk         398693           25  \n",
              "12       Live in Gdansk         265586           23  \n",
              "13       Live in Gdansk         400360           30  \n",
              "14       Live in Gdansk          79240           28  \n",
              "15       Live in Gdansk         462053           25  \n",
              "16       Live in Gdansk        1525546           33  \n",
              "17       Live in Gdansk          91320           32  \n",
              "18       Live in Gdansk         596640           31  \n",
              "19       Live in Gdansk         478413           25  "
            ],
            "text/html": [
              "\n",
              "  <div id=\"df-b5b52295-85bb-4ed6-8b48-672a93c6dd24\">\n",
              "    <div class=\"colab-df-container\">\n",
              "      <div>\n",
              "<style scoped>\n",
              "    .dataframe tbody tr th:only-of-type {\n",
              "        vertical-align: middle;\n",
              "    }\n",
              "\n",
              "    .dataframe tbody tr th {\n",
              "        vertical-align: top;\n",
              "    }\n",
              "\n",
              "    .dataframe thead th {\n",
              "        text-align: right;\n",
              "    }\n",
              "</style>\n",
              "<table border=\"1\" class=\"dataframe\">\n",
              "  <thead>\n",
              "    <tr style=\"text-align: right;\">\n",
              "      <th></th>\n",
              "      <th>Nombre</th>\n",
              "      <th>Artista</th>\n",
              "      <th>Album</th>\n",
              "      <th>Duracion (ms)</th>\n",
              "      <th>Popularidad</th>\n",
              "    </tr>\n",
              "  </thead>\n",
              "  <tbody>\n",
              "    <tr>\n",
              "      <th>0</th>\n",
              "      <td>Nuestra Fe - Remasterizado 2007</td>\n",
              "      <td>Soda Stereo</td>\n",
              "      <td>Dynamo (Remastered)</td>\n",
              "      <td>396546</td>\n",
              "      <td>47</td>\n",
              "    </tr>\n",
              "    <tr>\n",
              "      <th>1</th>\n",
              "      <td>Paradise - Live</td>\n",
              "      <td>Coldplay</td>\n",
              "      <td>Live 2012</td>\n",
              "      <td>332080</td>\n",
              "      <td>56</td>\n",
              "    </tr>\n",
              "    <tr>\n",
              "      <th>2</th>\n",
              "      <td>A Pocketful of Stones (with The Baltic Philhar...</td>\n",
              "      <td>David Gilmour</td>\n",
              "      <td>Live in Gdansk</td>\n",
              "      <td>340453</td>\n",
              "      <td>21</td>\n",
              "    </tr>\n",
              "    <tr>\n",
              "      <th>3</th>\n",
              "      <td>This Heaven (with The Baltic Philharmonic Symp...</td>\n",
              "      <td>David Gilmour</td>\n",
              "      <td>Live in Gdansk</td>\n",
              "      <td>272640</td>\n",
              "      <td>23</td>\n",
              "    </tr>\n",
              "    <tr>\n",
              "      <th>4</th>\n",
              "      <td>Breathe - Live in Gdańsk</td>\n",
              "      <td>David Gilmour</td>\n",
              "      <td>Live in Gdansk</td>\n",
              "      <td>168960</td>\n",
              "      <td>27</td>\n",
              "    </tr>\n",
              "    <tr>\n",
              "      <th>5</th>\n",
              "      <td>Comfortably Numb (with The Baltic Philharmonic...</td>\n",
              "      <td>David Gilmour</td>\n",
              "      <td>Live in Gdansk</td>\n",
              "      <td>560253</td>\n",
              "      <td>33</td>\n",
              "    </tr>\n",
              "    <tr>\n",
              "      <th>6</th>\n",
              "      <td>Castellorizon (with The Baltic Philharmonic Sy...</td>\n",
              "      <td>David Gilmour</td>\n",
              "      <td>Live in Gdansk</td>\n",
              "      <td>227093</td>\n",
              "      <td>25</td>\n",
              "    </tr>\n",
              "    <tr>\n",
              "      <th>7</th>\n",
              "      <td>Take a Breath (with The Baltic Philharmonic Sy...</td>\n",
              "      <td>David Gilmour</td>\n",
              "      <td>Live in Gdansk</td>\n",
              "      <td>407346</td>\n",
              "      <td>22</td>\n",
              "    </tr>\n",
              "    <tr>\n",
              "      <th>8</th>\n",
              "      <td>A Great Day for Freedom (with The Baltic Philh...</td>\n",
              "      <td>David Gilmour</td>\n",
              "      <td>Live in Gdansk</td>\n",
              "      <td>356946</td>\n",
              "      <td>31</td>\n",
              "    </tr>\n",
              "    <tr>\n",
              "      <th>9</th>\n",
              "      <td>Wish You Were Here - Live in Gdańsk</td>\n",
              "      <td>David Gilmour</td>\n",
              "      <td>Live in Gdansk</td>\n",
              "      <td>314386</td>\n",
              "      <td>39</td>\n",
              "    </tr>\n",
              "    <tr>\n",
              "      <th>10</th>\n",
              "      <td>Red Sky at Night (with The Baltic Philharmonic...</td>\n",
              "      <td>David Gilmour</td>\n",
              "      <td>Live in Gdansk</td>\n",
              "      <td>182666</td>\n",
              "      <td>25</td>\n",
              "    </tr>\n",
              "    <tr>\n",
              "      <th>11</th>\n",
              "      <td>The Blue (with The Baltic Philharmonic Symphon...</td>\n",
              "      <td>David Gilmour</td>\n",
              "      <td>Live in Gdansk</td>\n",
              "      <td>398693</td>\n",
              "      <td>25</td>\n",
              "    </tr>\n",
              "    <tr>\n",
              "      <th>12</th>\n",
              "      <td>Smile (with The Baltic Philharmonic Symphony O...</td>\n",
              "      <td>David Gilmour</td>\n",
              "      <td>Live in Gdansk</td>\n",
              "      <td>265586</td>\n",
              "      <td>23</td>\n",
              "    </tr>\n",
              "    <tr>\n",
              "      <th>13</th>\n",
              "      <td>Fat Old Sun - Live in Gdańsk</td>\n",
              "      <td>David Gilmour</td>\n",
              "      <td>Live in Gdansk</td>\n",
              "      <td>400360</td>\n",
              "      <td>30</td>\n",
              "    </tr>\n",
              "    <tr>\n",
              "      <th>14</th>\n",
              "      <td>Speak to Me - Live in Gdańsk</td>\n",
              "      <td>David Gilmour</td>\n",
              "      <td>Live in Gdansk</td>\n",
              "      <td>79240</td>\n",
              "      <td>28</td>\n",
              "    </tr>\n",
              "    <tr>\n",
              "      <th>15</th>\n",
              "      <td>Then I Close My Eyes (with The Baltic Philharm...</td>\n",
              "      <td>David Gilmour</td>\n",
              "      <td>Live in Gdansk</td>\n",
              "      <td>462053</td>\n",
              "      <td>25</td>\n",
              "    </tr>\n",
              "    <tr>\n",
              "      <th>16</th>\n",
              "      <td>Echoes - Live in Gdańsk</td>\n",
              "      <td>David Gilmour</td>\n",
              "      <td>Live in Gdansk</td>\n",
              "      <td>1525546</td>\n",
              "      <td>33</td>\n",
              "    </tr>\n",
              "    <tr>\n",
              "      <th>17</th>\n",
              "      <td>Breathe - Reprise; Live in Gdańsk</td>\n",
              "      <td>David Gilmour</td>\n",
              "      <td>Live in Gdansk</td>\n",
              "      <td>91320</td>\n",
              "      <td>32</td>\n",
              "    </tr>\n",
              "    <tr>\n",
              "      <th>18</th>\n",
              "      <td>High (with The Baltic Philharmonic Symphony Or...</td>\n",
              "      <td>David Gilmour</td>\n",
              "      <td>Live in Gdansk</td>\n",
              "      <td>596640</td>\n",
              "      <td>31</td>\n",
              "    </tr>\n",
              "    <tr>\n",
              "      <th>19</th>\n",
              "      <td>Where We Start (with The Baltic Philharmonic S...</td>\n",
              "      <td>David Gilmour</td>\n",
              "      <td>Live in Gdansk</td>\n",
              "      <td>478413</td>\n",
              "      <td>25</td>\n",
              "    </tr>\n",
              "  </tbody>\n",
              "</table>\n",
              "</div>\n",
              "      <button class=\"colab-df-convert\" onclick=\"convertToInteractive('df-b5b52295-85bb-4ed6-8b48-672a93c6dd24')\"\n",
              "              title=\"Convert this dataframe to an interactive table.\"\n",
              "              style=\"display:none;\">\n",
              "        \n",
              "  <svg xmlns=\"http://www.w3.org/2000/svg\" height=\"24px\"viewBox=\"0 0 24 24\"\n",
              "       width=\"24px\">\n",
              "    <path d=\"M0 0h24v24H0V0z\" fill=\"none\"/>\n",
              "    <path d=\"M18.56 5.44l.94 2.06.94-2.06 2.06-.94-2.06-.94-.94-2.06-.94 2.06-2.06.94zm-11 1L8.5 8.5l.94-2.06 2.06-.94-2.06-.94L8.5 2.5l-.94 2.06-2.06.94zm10 10l.94 2.06.94-2.06 2.06-.94-2.06-.94-.94-2.06-.94 2.06-2.06.94z\"/><path d=\"M17.41 7.96l-1.37-1.37c-.4-.4-.92-.59-1.43-.59-.52 0-1.04.2-1.43.59L10.3 9.45l-7.72 7.72c-.78.78-.78 2.05 0 2.83L4 21.41c.39.39.9.59 1.41.59.51 0 1.02-.2 1.41-.59l7.78-7.78 2.81-2.81c.8-.78.8-2.07 0-2.86zM5.41 20L4 18.59l7.72-7.72 1.47 1.35L5.41 20z\"/>\n",
              "  </svg>\n",
              "      </button>\n",
              "      \n",
              "  <style>\n",
              "    .colab-df-container {\n",
              "      display:flex;\n",
              "      flex-wrap:wrap;\n",
              "      gap: 12px;\n",
              "    }\n",
              "\n",
              "    .colab-df-convert {\n",
              "      background-color: #E8F0FE;\n",
              "      border: none;\n",
              "      border-radius: 50%;\n",
              "      cursor: pointer;\n",
              "      display: none;\n",
              "      fill: #1967D2;\n",
              "      height: 32px;\n",
              "      padding: 0 0 0 0;\n",
              "      width: 32px;\n",
              "    }\n",
              "\n",
              "    .colab-df-convert:hover {\n",
              "      background-color: #E2EBFA;\n",
              "      box-shadow: 0px 1px 2px rgba(60, 64, 67, 0.3), 0px 1px 3px 1px rgba(60, 64, 67, 0.15);\n",
              "      fill: #174EA6;\n",
              "    }\n",
              "\n",
              "    [theme=dark] .colab-df-convert {\n",
              "      background-color: #3B4455;\n",
              "      fill: #D2E3FC;\n",
              "    }\n",
              "\n",
              "    [theme=dark] .colab-df-convert:hover {\n",
              "      background-color: #434B5C;\n",
              "      box-shadow: 0px 1px 3px 1px rgba(0, 0, 0, 0.15);\n",
              "      filter: drop-shadow(0px 1px 2px rgba(0, 0, 0, 0.3));\n",
              "      fill: #FFFFFF;\n",
              "    }\n",
              "  </style>\n",
              "\n",
              "      <script>\n",
              "        const buttonEl =\n",
              "          document.querySelector('#df-b5b52295-85bb-4ed6-8b48-672a93c6dd24 button.colab-df-convert');\n",
              "        buttonEl.style.display =\n",
              "          google.colab.kernel.accessAllowed ? 'block' : 'none';\n",
              "\n",
              "        async function convertToInteractive(key) {\n",
              "          const element = document.querySelector('#df-b5b52295-85bb-4ed6-8b48-672a93c6dd24');\n",
              "          const dataTable =\n",
              "            await google.colab.kernel.invokeFunction('convertToInteractive',\n",
              "                                                     [key], {});\n",
              "          if (!dataTable) return;\n",
              "\n",
              "          const docLinkHtml = 'Like what you see? Visit the ' +\n",
              "            '<a target=\"_blank\" href=https://colab.research.google.com/notebooks/data_table.ipynb>data table notebook</a>'\n",
              "            + ' to learn more about interactive tables.';\n",
              "          element.innerHTML = '';\n",
              "          dataTable['output_type'] = 'display_data';\n",
              "          await google.colab.output.renderOutput(dataTable, element);\n",
              "          const docLink = document.createElement('div');\n",
              "          docLink.innerHTML = docLinkHtml;\n",
              "          element.appendChild(docLink);\n",
              "        }\n",
              "      </script>\n",
              "    </div>\n",
              "  </div>\n",
              "  "
            ]
          },
          "metadata": {},
          "execution_count": 31
        }
      ]
    }
  ]
}